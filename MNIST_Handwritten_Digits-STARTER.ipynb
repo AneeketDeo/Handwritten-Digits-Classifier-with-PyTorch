{
 "cells": [
  {
   "cell_type": "markdown",
   "metadata": {},
   "source": [
    "# Introduction\n",
    "\n",
    "In this project, you will build a neural network of your own design to evaluate the MNIST dataset.\n",
    "\n",
    "Some of the benchmark results on MNIST include can be found [on Yann LeCun's page](http://yann.lecun.com/exdb/mnist/) and include:\n",
    "\n",
    "88% [Lecun et al., 1998](http://yann.lecun.com/exdb/publis/pdf/lecun-98.pdf)\n",
    "95.3% [Lecun et al., 1998](http://yann.lecun.com/exdb/publis/pdf/lecun-98.pdf)\n",
    "99.65% [Ciresan et al., 2011](http://people.idsia.ch/~juergen/ijcai2011.pdf)\n",
    "\n",
    "MNIST is a great dataset for sanity checking your models, since the accuracy levels achieved by large convolutional neural networks and small linear models are both quite high. This makes it important to be familiar with the data.\n",
    "\n",
    "## Imports"
   ]
  },
  {
   "cell_type": "code",
   "execution_count": 50,
   "metadata": {},
   "outputs": [
    {
     "name": "stdout",
     "output_type": "stream",
     "text": [
      "Defaulting to user installation because normal site-packages is not writeable\n",
      "Requirement already satisfied: ipywidgets in /root/.local/lib/python3.7/site-packages (8.0.7)\n",
      "Requirement already satisfied: jupyterlab-widgets~=3.0.7 in /root/.local/lib/python3.7/site-packages (from ipywidgets) (3.0.8)\n",
      "Requirement already satisfied: ipykernel>=4.5.1 in /opt/conda/lib/python3.7/site-packages (from ipywidgets) (5.1.4)\n",
      "Requirement already satisfied: ipython>=6.1.0 in /opt/conda/lib/python3.7/site-packages (from ipywidgets) (7.13.0)\n",
      "Requirement already satisfied: widgetsnbextension~=4.0.7 in /root/.local/lib/python3.7/site-packages (from ipywidgets) (4.0.8)\n",
      "Requirement already satisfied: traitlets>=4.3.1 in /opt/conda/lib/python3.7/site-packages (from ipywidgets) (4.3.3)\n",
      "Requirement already satisfied: jupyter-client in /opt/conda/lib/python3.7/site-packages (from ipykernel>=4.5.1->ipywidgets) (6.0.0)\n",
      "Requirement already satisfied: tornado>=4.2 in /opt/conda/lib/python3.7/site-packages (from ipykernel>=4.5.1->ipywidgets) (5.1.1)\n",
      "Requirement already satisfied: backcall in /opt/conda/lib/python3.7/site-packages (from ipython>=6.1.0->ipywidgets) (0.1.0)\n",
      "Requirement already satisfied: pexpect; sys_platform != \"win32\" in /opt/conda/lib/python3.7/site-packages (from ipython>=6.1.0->ipywidgets) (4.8.0)\n",
      "Requirement already satisfied: jedi>=0.10 in /opt/conda/lib/python3.7/site-packages (from ipython>=6.1.0->ipywidgets) (0.16.0)\n",
      "Requirement already satisfied: pygments in /opt/conda/lib/python3.7/site-packages (from ipython>=6.1.0->ipywidgets) (2.5.2)\n",
      "Requirement already satisfied: decorator in /opt/conda/lib/python3.7/site-packages (from ipython>=6.1.0->ipywidgets) (4.4.2)\n",
      "Requirement already satisfied: prompt-toolkit!=3.0.0,!=3.0.1,<3.1.0,>=2.0.0 in /opt/conda/lib/python3.7/site-packages (from ipython>=6.1.0->ipywidgets) (3.0.3)\n",
      "Requirement already satisfied: setuptools>=18.5 in /opt/conda/lib/python3.7/site-packages (from ipython>=6.1.0->ipywidgets) (45.2.0.post20200209)\n",
      "Requirement already satisfied: pickleshare in /opt/conda/lib/python3.7/site-packages (from ipython>=6.1.0->ipywidgets) (0.7.5)\n",
      "Requirement already satisfied: six in /opt/conda/lib/python3.7/site-packages (from traitlets>=4.3.1->ipywidgets) (1.16.0)\n",
      "Requirement already satisfied: ipython-genutils in /opt/conda/lib/python3.7/site-packages (from traitlets>=4.3.1->ipywidgets) (0.2.0)\n",
      "Requirement already satisfied: pyzmq>=13 in /opt/conda/lib/python3.7/site-packages (from jupyter-client->ipykernel>=4.5.1->ipywidgets) (19.0.0)\n",
      "Requirement already satisfied: jupyter-core>=4.6.0 in /opt/conda/lib/python3.7/site-packages (from jupyter-client->ipykernel>=4.5.1->ipywidgets) (4.6.3)\n",
      "Requirement already satisfied: python-dateutil>=2.1 in /opt/conda/lib/python3.7/site-packages (from jupyter-client->ipykernel>=4.5.1->ipywidgets) (2.8.1)\n",
      "Requirement already satisfied: ptyprocess>=0.5 in /opt/conda/lib/python3.7/site-packages (from pexpect; sys_platform != \"win32\"->ipython>=6.1.0->ipywidgets) (0.6.0)\n",
      "Requirement already satisfied: parso>=0.5.2 in /opt/conda/lib/python3.7/site-packages (from jedi>=0.10->ipython>=6.1.0->ipywidgets) (0.6.1)\n",
      "Requirement already satisfied: wcwidth in /opt/conda/lib/python3.7/site-packages (from prompt-toolkit!=3.0.0,!=3.0.1,<3.1.0,>=2.0.0->ipython>=6.1.0->ipywidgets) (0.1.8)\n",
      "Note: you may need to restart the kernel to use updated packages.\n"
     ]
    }
   ],
   "source": [
    "pip install ipywidgets"
   ]
  },
  {
   "cell_type": "code",
   "execution_count": 51,
   "metadata": {},
   "outputs": [],
   "source": [
    "## This cell contains the essential imports you will need – DO NOT CHANGE THE CONTENTS! ##\n",
    "import torch\n",
    "import torch.nn as nn\n",
    "import torch.nn.functional as F\n",
    "import torch.optim as optim\n",
    "import torchvision\n",
    "import torchvision.transforms as transforms\n",
    "import matplotlib.pyplot as plt\n",
    "import numpy as np\n",
    "# from ipywidgets import FloatProgress\n",
    "from tqdm.auto import tqdm as tqdm_auto\n",
    "from torch.utils.data import DataLoader\n",
    "from torch.utils.data import random_split"
   ]
  },
  {
   "cell_type": "markdown",
   "metadata": {},
   "source": [
    "## Load the Dataset\n",
    "\n",
    "Specify your transforms as a list if you intend to .\n",
    "The transforms module is already loaded as `transforms`.\n",
    "\n",
    "MNIST is fortunately included in the torchvision module.\n",
    "Then, you can create your dataset using the `MNIST` object from `torchvision.datasets` ([the documentation is available here](https://pytorch.org/vision/stable/datasets.html#mnist)).\n",
    "Make sure to specify `download=True`! \n",
    "\n",
    "Once your dataset is created, you'll also need to define a `DataLoader` from the `torch.utils.data` module for both the train and the test set."
   ]
  },
  {
   "cell_type": "code",
   "execution_count": 52,
   "metadata": {},
   "outputs": [],
   "source": [
    "# Define transforms\n",
    "model_transforms = transforms.Compose([\n",
    "    transforms.ToTensor(), \n",
    "    transforms.Normalize((0.5,), (0.5,))\n",
    "])\n",
    "\n",
    "visual_transforms = transforms.Compose([\n",
    "    transforms.ToTensor(), \n",
    "#     transforms.Normalize((0.5, 0.5, 0.5), (0.5, 0.5, 0.5))\n",
    "])\n",
    "\n",
    "\n",
    "# Create training set and define training dataloader\n",
    "# train_size = int(0.8 * len(data))\n",
    "# test_size = len(data) - train_size\n",
    "\n",
    "# model_transforms\n",
    "training_data = torchvision.datasets.MNIST(root='data', train=True, download=True, transform= model_transforms)\n",
    "testing_data = torchvision.datasets.MNIST(root='data', train=False, download=True, transform= model_transforms)\n",
    "\n",
    "# visual_transforms\n",
    "vtraining_data = torchvision.datasets.MNIST(root='data', train=True, download=True, transform= visual_transforms)\n",
    "vtesting_data = torchvision.datasets.MNIST(root='data', train=False, download=True, transform= visual_transforms)\n",
    "\n",
    "# training_data, testing_data = random_split(data, [train_size, test_size])\n",
    "training_set = DataLoader(training_data, batch_size=64, shuffle= True)\n",
    "vtraining_set = DataLoader(vtraining_data, batch_size=64, shuffle= True)\n",
    "\n",
    "\n",
    "# training_data = training_data.reshape(training_data.shape[0], 28, 28, 1)\n",
    "# training_set = training_set.reshape(training_set.shape[0], 28, 28, 1)\n",
    "\n",
    "# Create test set and define test dataloader\n",
    "testing_set = DataLoader(testing_data, batch_size=64, shuffle= True)\n",
    "vtesting_set = DataLoader(vtesting_data, batch_size=64, shuffle= True)\n"
   ]
  },
  {
   "cell_type": "markdown",
   "metadata": {},
   "source": [
    "## Justify your preprocessing\n",
    "\n",
    "In your own words, why did you choose the transforms you chose? If you didn't use any preprocessing steps, why not?\n"
   ]
  },
  {
   "cell_type": "markdown",
   "metadata": {},
   "source": [
    "**ToTensor - Used this transform to convert image pixels to Tensors which are better for processing images.**\n",
    "\n",
    "**Normalize - Used this transform to normalize data, which converts the image pixel size from (0, 255) to (0, 1). Which is better to train our model.**"
   ]
  },
  {
   "cell_type": "markdown",
   "metadata": {},
   "source": [
    "## Explore the Dataset\n",
    "Using matplotlib, numpy, and torch, explore the dimensions of your data.\n",
    "\n",
    "You can view images using the `show5` function defined below – it takes a data loader as an argument.\n",
    "Remember that normalized images will look really weird to you! You may want to try changing your transforms to view images.\n",
    "Typically using no transforms other than `toTensor()` works well for viewing – but not as well for training your network.\n",
    "If `show5` doesn't work, go back and check your code for creating your data loaders and your training/test sets."
   ]
  },
  {
   "cell_type": "code",
   "execution_count": 53,
   "metadata": {},
   "outputs": [],
   "source": [
    "## This cell contains a function for showing 5 images from a dataloader – DO NOT CHANGE THE CONTENTS! ##\n",
    "def show5(img_loader):\n",
    "    dataiter = iter(img_loader)\n",
    "    \n",
    "    batch = next(dataiter)\n",
    "    labels = batch[1][0:5]\n",
    "    images = batch[0][0:5]\n",
    "    for i in range(5):\n",
    "        print(int(labels[i].detach()))\n",
    "    \n",
    "        image = images[i].numpy()\n",
    "        plt.imshow(image.T.squeeze().T)\n",
    "        plt.show()"
   ]
  },
  {
   "cell_type": "code",
   "execution_count": 54,
   "metadata": {},
   "outputs": [
    {
     "name": "stdout",
     "output_type": "stream",
     "text": [
      "0\n"
     ]
    },
    {
     "data": {
      "image/png": "[encoded data removed]",
      "text/plain": [
       "<Figure size 432x288 with 1 Axes>"
      ]
     },
     "metadata": {
      "needs_background": "light"
     },
     "output_type": "display_data"
    },
    {
     "name": "stdout",
     "output_type": "stream",
     "text": [
      "5\n"
     ]
    },
    {
     "data": {
      "image/png": "[encoded data removed]",
      "text/plain": [
       "<Figure size 432x288 with 1 Axes>"
      ]
     },
     "metadata": {
      "needs_background": "light"
     },
     "output_type": "display_data"
    },
    {
     "name": "stdout",
     "output_type": "stream",
     "text": [
      "5\n"
     ]
    },
    {
     "data": {
      "image/png": "[encoded data removed]",
      "text/plain": [
       "<Figure size 432x288 with 1 Axes>"
      ]
     },
     "metadata": {
      "needs_background": "light"
     },
     "output_type": "display_data"
    },
    {
     "name": "stdout",
     "output_type": "stream",
     "text": [
      "2\n"
     ]
    },
    {
     "data": {
      "image/png": "[encoded data removed]",
      "text/plain": [
       "<Figure size 432x288 with 1 Axes>"
      ]
     },
     "metadata": {
      "needs_background": "light"
     },
     "output_type": "display_data"
    },
    {
     "name": "stdout",
     "output_type": "stream",
     "text": [
      "8\n"
     ]
    },
    {
     "data": {
      "image/png": "[encoded data removed]",
      "text/plain": [
       "<Figure size 432x288 with 1 Axes>"
      ]
     },
     "metadata": {
      "needs_background": "light"
     },
     "output_type": "display_data"
    }
   ],
   "source": [
    "# Explore data\n",
    "show5(vtraining_set)"
   ]
  },
  {
   "cell_type": "markdown",
   "metadata": {},
   "source": [
    "## Build your Neural Network\n",
    "Using the layers in `torch.nn` (which has been imported as `nn`) and the `torch.nn.functional` module (imported as `F`), construct a neural network based on the parameters of the dataset.\n",
    "Use any architecture you like. \n",
    "\n",
    "*Note*: If you did not flatten your tensors in your transforms or as part of your preprocessing and you are using only `Linear` layers, make sure to use the `Flatten` layer in your network!"
   ]
  },
  {
   "cell_type": "code",
   "execution_count": 55,
   "metadata": {},
   "outputs": [],
   "source": [
    "class NeuralNetwork(nn.Module):\n",
    "    def __init__(self):\n",
    "        super().__init__()\n",
    "        \n",
    "        self.conv1 = nn.Conv2d(in_channels=1, out_channels=16, kernel_size=3, stride=1, padding=1)\n",
    "        self.conv2 = nn.Conv2d(in_channels=16, out_channels=32, kernel_size=3, stride=1, padding=1)\n",
    "        self.pool = nn.MaxPool2d(kernel_size=2, stride=2)\n",
    "        self.fc1 = nn.Linear(32 * 7 * 7, 128)\n",
    "        self.fc2 = nn.Linear(128, 10)\n",
    "\n",
    "    def forward(self, x):\n",
    "        x = self.conv1(x)\n",
    "        x = F.relu(x)\n",
    "        x = self.pool(x)\n",
    "        \n",
    "        x = self.conv2(x)\n",
    "        x = F.relu(x)\n",
    "        x = self.pool(x)\n",
    "        \n",
    "        x = torch.flatten(x, 1)\n",
    "        \n",
    "        x = self.fc1(x)\n",
    "        x = F.relu(x)\n",
    "        \n",
    "        x = self.fc2(x)\n",
    "        \n",
    "        return x"
   ]
  },
  {
   "cell_type": "markdown",
   "metadata": {},
   "source": [
    "Specify a loss function and an optimizer, and instantiate the model.\n",
    "\n",
    "If you use a less common loss function, please note why you chose that loss function in a comment."
   ]
  },
  {
   "cell_type": "code",
   "execution_count": 56,
   "metadata": {},
   "outputs": [],
   "source": [
    "# Set device\n",
    "device = torch.device(\"cuda\" if torch.cuda.is_available() else \"cpu\")\n",
    "\n",
    "# Define the loss function\n",
    "criterion = nn.CrossEntropyLoss()\n",
    "\n",
    "# Instantiate the model\n",
    "net = NeuralNetwork().to(device)\n",
    "\n",
    "# Define the optimizer\n",
    "optimizer = optim.Adam(net.parameters(), lr=0.001)"
   ]
  },
  {
   "cell_type": "markdown",
   "metadata": {},
   "source": [
    "## Running your Neural Network\n",
    "Use whatever method you like to train your neural network, and ensure you record the average loss at each epoch. \n",
    "Don't forget to use `torch.device()` and the `.to()` method for both your model and your data if you are using GPU!\n",
    "\n",
    "If you want to print your loss **during** each epoch, you can use the `enumerate` function and print the loss after a set number of batches. 250 batches works well for most people!"
   ]
  },
  {
   "cell_type": "code",
   "execution_count": 57,
   "metadata": {},
   "outputs": [
    {
     "name": "stdout",
     "output_type": "stream",
     "text": [
      "Epoch [1/10], Batch [250/938], Loss: 0.48391855317354204\n",
      "Epoch [1/10], Batch [500/938], Loss: 0.13173090466856957\n",
      "Epoch [1/10], Batch [750/938], Loss: 0.08722678227350115\n",
      "Epoch [2/10], Batch [250/938], Loss: 0.06428600304014981\n",
      "Epoch [2/10], Batch [500/938], Loss: 0.05855784033797681\n",
      "Epoch [2/10], Batch [750/938], Loss: 0.05120960372965783\n",
      "Epoch [3/10], Batch [250/938], Loss: 0.03491311425622553\n",
      "Epoch [3/10], Batch [500/938], Loss: 0.04351742791384459\n",
      "Epoch [3/10], Batch [750/938], Loss: 0.038208319837227465\n",
      "Epoch [4/10], Batch [250/938], Loss: 0.021718165126629174\n",
      "Epoch [4/10], Batch [500/938], Loss: 0.029368039527907966\n",
      "Epoch [4/10], Batch [750/938], Loss: 0.030279900689492933\n",
      "Epoch [5/10], Batch [250/938], Loss: 0.020039597869850694\n",
      "Epoch [5/10], Batch [500/938], Loss: 0.023508670779701788\n",
      "Epoch [5/10], Batch [750/938], Loss: 0.023007243909290993\n",
      "Epoch [6/10], Batch [250/938], Loss: 0.01658562962608994\n",
      "Epoch [6/10], Batch [500/938], Loss: 0.01824447289510863\n",
      "Epoch [6/10], Batch [750/938], Loss: 0.01912798756637494\n",
      "Epoch [7/10], Batch [250/938], Loss: 0.01295445193001069\n",
      "Epoch [7/10], Batch [500/938], Loss: 0.012474132099654525\n",
      "Epoch [7/10], Batch [750/938], Loss: 0.014330127686378546\n",
      "Epoch [8/10], Batch [250/938], Loss: 0.009863406530566863\n",
      "Epoch [8/10], Batch [500/938], Loss: 0.009548236098358757\n",
      "Epoch [8/10], Batch [750/938], Loss: 0.010722764451173135\n",
      "Epoch [9/10], Batch [250/938], Loss: 0.009287626126777467\n",
      "Epoch [9/10], Batch [500/938], Loss: 0.009753197907397407\n",
      "Epoch [9/10], Batch [750/938], Loss: 0.009309231484010524\n",
      "Epoch [10/10], Batch [250/938], Loss: 0.006400629708405176\n",
      "Epoch [10/10], Batch [500/938], Loss: 0.0061732489055866605\n",
      "Epoch [10/10], Batch [750/938], Loss: 0.0106051523762726\n"
     ]
    }
   ],
   "source": [
    "# Set the number of epochs and print frequency\n",
    "num_epochs = 10\n",
    "print_freq = 250\n",
    "loss_list  = []\n",
    "\n",
    "# Training loop\n",
    "for epoch in range(num_epochs):\n",
    "    running_loss = 0.0\n",
    "\n",
    "    for i, data in enumerate(training_set, 0):\n",
    "        inputs, labels = data[0].to(device), data[1].to(device)\n",
    "\n",
    "        # Zero the gradients\n",
    "        optimizer.zero_grad()\n",
    "\n",
    "        # Forward pass\n",
    "        outputs = net(inputs)\n",
    "        loss = criterion(outputs, labels)\n",
    "\n",
    "        # Backward pass and optimization\n",
    "        loss.backward()\n",
    "        optimizer.step()\n",
    "\n",
    "        # Record the loss\n",
    "        running_loss += loss.item()\n",
    "\n",
    "        # Print the loss at the specified frequency\n",
    "        if i % print_freq == print_freq - 1:\n",
    "            avg_loss = running_loss / print_freq\n",
    "            loss_list.append(avg_loss)\n",
    "            print(f\"Epoch [{epoch+1}/{num_epochs}], Batch [{i+1}/{len(training_set)}], Loss: {avg_loss}\")\n",
    "            running_loss = 0.0\n"
   ]
  },
  {
   "cell_type": "markdown",
   "metadata": {},
   "source": [
    "Plot the training loss (and validation loss/accuracy, if recorded)."
   ]
  },
  {
   "cell_type": "code",
   "execution_count": 58,
   "metadata": {},
   "outputs": [
    {
     "data": {
      "image/png": "[encoded data removed]",
      "text/plain": [
       "<Figure size 432x288 with 1 Axes>"
      ]
     },
     "metadata": {
      "needs_background": "light"
     },
     "output_type": "display_data"
    }
   ],
   "source": [
    "epochs = range(1, len(loss_list) + 1)\n",
    "\n",
    "# Plot training loss\n",
    "plt.plot(epochs, loss_list, label='Training Loss')\n",
    "\n",
    "plt.title('Training and Validation Loss')\n",
    "plt.xlabel('Epochs')\n",
    "plt.ylabel('Loss')\n",
    "plt.legend()\n",
    "plt.show()"
   ]
  },
  {
   "cell_type": "markdown",
   "metadata": {},
   "source": [
    "## Testing your model\n",
    "Using the previously created `DataLoader` for the test set, compute the percentage of correct predictions using the highest probability prediction. \n",
    "\n",
    "If your accuracy is over 90%, great work, but see if you can push a bit further! \n",
    "If your accuracy is under 90%, you'll need to make improvements.\n",
    "Go back and check your model architecture, loss function, and optimizer to make sure they're appropriate for an image classification task."
   ]
  },
  {
   "cell_type": "code",
   "execution_count": 59,
   "metadata": {},
   "outputs": [],
   "source": [
    "def test(model):\n",
    "    correct=0\n",
    "    test_loss=0\n",
    "    class_correct = list(0. for i in range(10))\n",
    "    class_total = list(0. for i in range(10))\n",
    "    \n",
    "    batch_size = 20\n",
    "\n",
    "    model.eval() # test the model with dropout layers off\n",
    "    for i, data in enumerate(training_set, 0):\n",
    "        if torch.cuda.is_available():\n",
    "            images,labels=images.cuda(),labels.cuda()\n",
    "            \n",
    "        images, labels = data[0].to(device), data[1].to(device)\n",
    "        output=model(images)\n",
    "        loss=criterion(output,labels)\n",
    "        test_loss+=loss.item()\n",
    "        _,pred=torch.max(output,1)\n",
    "        correct = np.squeeze(pred.eq(labels.data.view_as(pred)))\n",
    "\n",
    "        for i in range(batch_size):\n",
    "            label = labels.data[i]\n",
    "            class_correct[label] += correct[i].item()\n",
    "            class_total[label] += 1\n",
    "\n",
    "\n",
    "    test_loss=test_loss/len(testing_data)\n",
    "    print(f'For {type(model).__name__} :')\n",
    "    print(f\"Test Loss: {test_loss}\")\n",
    "    print(f\"Correctly predicted per class : {class_correct}, Total correctly perdicted : {sum(class_correct)}\")\n",
    "    print(f\"Total Predictions per class : {class_total}, Total predictions to be made : {sum(class_total)}\\n\")\n",
    "    for i in range(10):\n",
    "      if class_total[i] > 0:\n",
    "          print(f\"Test Accuracy of class {i} : {float(100 * class_correct[i] / class_total[i])}% where {int(np.sum(class_correct[i]))} of {int(np.sum(class_total[i]))} were predicted correctly\")\n",
    "      else:\n",
    "          print('Test Accuracy of %5s: N/A (no training examples)' % (classes[i]))\n",
    "\n",
    "    print(f\"\\nOverall Test Accuracy : {float(100. * np.sum(class_correct) / np.sum(class_total))}% where {int(np.sum(class_correct))} of {int(np.sum(class_total))} were predicted correctly\")\n"
   ]
  },
  {
   "cell_type": "code",
   "execution_count": 60,
   "metadata": {},
   "outputs": [
    {
     "name": "stdout",
     "output_type": "stream",
     "text": [
      "For NeuralNetwork :\n",
      "Test Loss: 0.0010125693412503097\n",
      "Correctly predicted per class : [1889.0, 2047.0, 1868.0, 1918.0, 1810.0, 1681.0, 1853.0, 1978.0, 1822.0, 1828.0], Total correctly perdicted : 18694.0\n",
      "Total Predictions per class : [1890.0, 2048.0, 1875.0, 1944.0, 1822.0, 1684.0, 1858.0, 1982.0, 1827.0, 1830.0], Total predictions to be made : 18760.0\n",
      "\n",
      "Test Accuracy of class 0 : 99.94708994708995% where 1889 of 1890 were predicted correctly\n",
      "Test Accuracy of class 1 : 99.951171875% where 2047 of 2048 were predicted correctly\n",
      "Test Accuracy of class 2 : 99.62666666666667% where 1868 of 1875 were predicted correctly\n",
      "Test Accuracy of class 3 : 98.66255144032922% where 1918 of 1944 were predicted correctly\n",
      "Test Accuracy of class 4 : 99.34138309549945% where 1810 of 1822 were predicted correctly\n",
      "Test Accuracy of class 5 : 99.82185273159145% where 1681 of 1684 were predicted correctly\n",
      "Test Accuracy of class 6 : 99.73089343379978% where 1853 of 1858 were predicted correctly\n",
      "Test Accuracy of class 7 : 99.79818365287588% where 1978 of 1982 were predicted correctly\n",
      "Test Accuracy of class 8 : 99.72632731253421% where 1822 of 1827 were predicted correctly\n",
      "Test Accuracy of class 9 : 99.89071038251366% where 1828 of 1830 were predicted correctly\n",
      "\n",
      "Overall Test Accuracy : 99.64818763326225% where 18694 of 18760 were predicted correctly\n"
     ]
    }
   ],
   "source": [
    "test(net)"
   ]
  },
  {
   "cell_type": "markdown",
   "metadata": {},
   "source": [
    "## Improving your model\n",
    "\n",
    "Once your model is done training, try tweaking your hyperparameters and training again below to improve your accuracy on the test set!"
   ]
  },
  {
   "cell_type": "code",
   "execution_count": 63,
   "metadata": {},
   "outputs": [
    {
     "name": "stdout",
     "output_type": "stream",
     "text": [
      "Epoch [1/10], Batch [250/938], Loss: 0.007154360772105065\n",
      "Epoch [1/10], Batch [500/938], Loss: 0.007763958789223579\n",
      "Epoch [1/10], Batch [750/938], Loss: 0.00462210742098614\n",
      "Epoch [2/10], Batch [250/938], Loss: 0.004738770134841616\n",
      "Epoch [2/10], Batch [500/938], Loss: 0.009570846140533832\n",
      "Epoch [2/10], Batch [750/938], Loss: 0.008191287088327955\n",
      "Epoch [3/10], Batch [250/938], Loss: 0.0024410665006689668\n",
      "Epoch [3/10], Batch [500/938], Loss: 0.0044477476232763135\n",
      "Epoch [3/10], Batch [750/938], Loss: 0.00915548441975352\n",
      "Epoch [4/10], Batch [250/938], Loss: 0.003468924865816007\n",
      "Epoch [4/10], Batch [500/938], Loss: 0.006782301050117894\n",
      "Epoch [4/10], Batch [750/938], Loss: 0.0044923530381684035\n",
      "Epoch [5/10], Batch [250/938], Loss: 0.004673683358289736\n",
      "Epoch [5/10], Batch [500/938], Loss: 0.005674659586539974\n",
      "Epoch [5/10], Batch [750/938], Loss: 0.0038785599068551163\n",
      "Epoch [6/10], Batch [250/938], Loss: 0.004545804773386863\n",
      "Epoch [6/10], Batch [500/938], Loss: 0.004009780638048028\n",
      "Epoch [6/10], Batch [750/938], Loss: 0.007609092937506148\n",
      "Epoch [7/10], Batch [250/938], Loss: 0.0013874407899664902\n",
      "Epoch [7/10], Batch [500/938], Loss: 0.002291214525805685\n",
      "Epoch [7/10], Batch [750/938], Loss: 0.0038949741701766244\n",
      "Epoch [8/10], Batch [250/938], Loss: 0.00455706862579973\n",
      "Epoch [8/10], Batch [500/938], Loss: 0.00462621868703053\n",
      "Epoch [8/10], Batch [750/938], Loss: 0.0029941583821473045\n",
      "Epoch [9/10], Batch [250/938], Loss: 0.003589984571857144\n",
      "Epoch [9/10], Batch [500/938], Loss: 0.0054638969701615\n",
      "Epoch [9/10], Batch [750/938], Loss: 0.00186232634553555\n",
      "Epoch [10/10], Batch [250/938], Loss: 0.0015914643526355832\n",
      "Epoch [10/10], Batch [500/938], Loss: 0.0034647274363571795\n",
      "Epoch [10/10], Batch [750/938], Loss: 0.004006998537073173\n"
     ]
    }
   ],
   "source": [
    "# Set the number of epochs and print frequency\n",
    "num_epochs = 10\n",
    "print_freq = 250\n",
    "loss_list  = []\n",
    "\n",
    "# Training loop\n",
    "for epoch in range(num_epochs):\n",
    "    running_loss = 0.0\n",
    "\n",
    "    for i, data in enumerate(training_set, 0):\n",
    "        inputs, labels = data[0].to(device), data[1].to(device)\n",
    "\n",
    "        # Zero the gradients\n",
    "        optimizer.zero_grad()\n",
    "\n",
    "        # Forward pass\n",
    "        outputs = net(inputs)\n",
    "        loss = criterion(outputs, labels)\n",
    "\n",
    "        # Backward pass and optimization\n",
    "        loss.backward()\n",
    "        optimizer.step()\n",
    "\n",
    "        # Record the loss\n",
    "        running_loss += loss.item()\n",
    "\n",
    "        # Print the loss at the specified frequency\n",
    "        if i % print_freq == print_freq - 1:\n",
    "            avg_loss = running_loss / print_freq\n",
    "            loss_list.append(avg_loss)\n",
    "            print(f\"Epoch [{epoch+1}/{num_epochs}], Batch [{i+1}/{len(training_set)}], Loss: {avg_loss}\")\n",
    "            running_loss = 0.0"
   ]
  },
  {
   "cell_type": "code",
   "execution_count": 64,
   "metadata": {},
   "outputs": [
    {
     "name": "stdout",
     "output_type": "stream",
     "text": [
      "For NeuralNetwork :\n",
      "Test Loss: 0.0006752355296030374\n",
      "Correctly predicted per class : [1800.0, 2098.0, 1914.0, 1938.0, 1801.0, 1695.0, 1794.0, 1989.0, 1827.0, 1857.0], Total correctly perdicted : 18713.0\n",
      "Total Predictions per class : [1809.0, 2101.0, 1922.0, 1938.0, 1801.0, 1697.0, 1794.0, 2014.0, 1827.0, 1857.0], Total predictions to be made : 18760.0\n",
      "\n",
      "Test Accuracy of class 0 : 99.50248756218906% where 1800 of 1809 were predicted correctly\n",
      "Test Accuracy of class 1 : 99.85721085197525% where 2098 of 2101 were predicted correctly\n",
      "Test Accuracy of class 2 : 99.5837669094693% where 1914 of 1922 were predicted correctly\n",
      "Test Accuracy of class 3 : 100.0% where 1938 of 1938 were predicted correctly\n",
      "Test Accuracy of class 4 : 100.0% where 1801 of 1801 were predicted correctly\n",
      "Test Accuracy of class 5 : 99.88214496169711% where 1695 of 1697 were predicted correctly\n",
      "Test Accuracy of class 6 : 100.0% where 1794 of 1794 were predicted correctly\n",
      "Test Accuracy of class 7 : 98.75868917576962% where 1989 of 2014 were predicted correctly\n",
      "Test Accuracy of class 8 : 100.0% where 1827 of 1827 were predicted correctly\n",
      "Test Accuracy of class 9 : 100.0% where 1857 of 1857 were predicted correctly\n",
      "\n",
      "Overall Test Accuracy : 99.74946695095949% where 18713 of 18760 were predicted correctly\n"
     ]
    }
   ],
   "source": [
    "test(net)"
   ]
  },
  {
   "cell_type": "code",
   "execution_count": null,
   "metadata": {},
   "outputs": [],
   "source": [
    "test(net)"
   ]
  },
  {
   "cell_type": "markdown",
   "metadata": {},
   "source": [
    "## Saving your model\n",
    "Using `torch.save`, save your model for future loading."
   ]
  },
  {
   "cell_type": "code",
   "execution_count": 62,
   "metadata": {},
   "outputs": [],
   "source": [
    "torch.save(net.state_dict(), \"model.pth\")"
   ]
  },
  {
   "cell_type": "code",
   "execution_count": null,
   "metadata": {},
   "outputs": [],
   "source": []
  }
 ],
 "metadata": {
  "kernelspec": {
   "display_name": "Python 3",
   "language": "python",
   "name": "python3"
  },
  "language_info": {
   "codemirror_mode": {
    "name": "ipython",
    "version": 3
   },
   "file_extension": ".py",
   "mimetype": "text/x-python",
   "name": "python",
   "nbconvert_exporter": "python",
   "pygments_lexer": "ipython3",
   "version": "3.7.6"
  }
 },
 "nbformat": 4,
 "nbformat_minor": 4
}
